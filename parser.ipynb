{
 "cells": [
  {
   "cell_type": "code",
   "execution_count": 1,
   "id": "d9798a65",
   "metadata": {},
   "outputs": [],
   "source": [
    "import requests\n",
    "from bs4 import BeautifulSoup\n",
    "from io import BytesIO\n",
    "from PIL import Image\n",
    "import tqdm\n",
    "import os\n",
    "import threading\n",
    "import time"
   ]
  },
  {
   "cell_type": "markdown",
   "id": "2f8c187e",
   "metadata": {},
   "source": [
    "## Парсинг изображений человеков\n"
   ]
  },
  {
   "cell_type": "code",
   "execution_count": 2,
   "id": "3371a743",
   "metadata": {},
   "outputs": [],
   "source": [
    "def image_downloader(page, path):\n",
    "    search = 'cyberpunk люди'\n",
    "    \n",
    "    headers = {\n",
    "        'User-Agent': 'Mozilla/5.0 (Windows NT 10.0; Win64; x64; rv:109.0) Gecko/20100101 Firefox/112.0'\n",
    "    }\n",
    "    cookies = {\n",
    "        'cookie_name': 'cookie_value'\n",
    "    }    \n",
    "\n",
    "    url = f'https://ru.freepik.com/search?ai=exclude&format=search&page={page}&people=include&query=люди&type=photo'\n",
    "    response = requests.get(url, headers = headers, cookies = cookies)\n",
    "    html = response.content\n",
    "\n",
    "    soup = BeautifulSoup(html, 'html.parser')\n",
    "    figures = soup.find_all('figure', class_ = 'showcase__item js-detail-data caption showcase__item--buttons')\n",
    "\n",
    "    for iteration, figure in enumerate(figures):\n",
    "        url = figure.get('data-image')\n",
    "        with Image.open(BytesIO(requests.get(url).content)) as im:\n",
    "            im.save(f'{path}p{page}i{iteration}.jpg')\n",
    "            \n",
    "def make_threads(path, pages_amount = 200, threads_amount = 30):\n",
    "    if not os.path.exists(path):\n",
    "        os.makedirs(path)\n",
    "\n",
    "    for pages in tqdm.tqdm(range(1, pages_amount+1, threads_amount)):\n",
    "        threads = dict()\n",
    "        for page in range(pages, pages+threads_amount+1):\n",
    "            threads[page] = threading.Thread(target = image_downloader, args = [page, path])\n",
    "            threads[page].start()\n",
    "        for thread in threads.values():\n",
    "            thread.join()"
   ]
  },
  {
   "cell_type": "code",
   "execution_count": 3,
   "id": "dcf7f513",
   "metadata": {},
   "outputs": [
    {
     "name": "stderr",
     "output_type": "stream",
     "text": [
      "100%|█████████████████████████████████████████████| 7/7 [05:24<00:00, 46.35s/it]\n"
     ]
    }
   ],
   "source": [
    "make_threads(path = 'images2/')"
   ]
  }
 ],
 "metadata": {
  "kernelspec": {
   "display_name": "Python 3 (ipykernel)",
   "language": "python",
   "name": "python3"
  },
  "language_info": {
   "codemirror_mode": {
    "name": "ipython",
    "version": 3
   },
   "file_extension": ".py",
   "mimetype": "text/x-python",
   "name": "python",
   "nbconvert_exporter": "python",
   "pygments_lexer": "ipython3",
   "version": "3.8.17"
  }
 },
 "nbformat": 4,
 "nbformat_minor": 5
}
